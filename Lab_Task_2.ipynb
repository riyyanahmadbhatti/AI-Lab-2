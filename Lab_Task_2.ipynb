{
  "cells": [
    {
      "cell_type": "markdown",
      "metadata": {
        "id": "v8rqnoOM0NqI"
      },
      "source": [
        "# TASK 1\n",
        "dataset link : https://raw.githubusercontent.com/TirendazAcademy/PANDAS-TUTORIAL/main/DataSets/vgsalesGlobale.csv\n",
        "#Exercise\n",
        "Use the dataset of Game, we have explored earlier and perform following operations.\n",
        "\n",
        "* Calculate the total global sales for all games in the dataset.\n",
        "* Find the game with the highest global sales.\n",
        "* Determine the average sales for each region (NA_Sales, EU_Sales, JP_Sales, Other_Sales).\n",
        "* Find the top 5 most popular game genres based on global sales.\n",
        "* Calculate the total sales for each genre in each region and find the most popular genre in North America (NA_Sales).\n",
        "* Display last 10 rows.\n",
        "* Determine the top 3 gaming platforms with the highest global sales.\n",
        "* Calculate the market share (percentage of global sales) for each genre.\n",
        "* Calculate the correlation coefficient between NA_Sales and EU_Sales. (.corr function)"
      ]
    },
    {
      "cell_type": "code",
      "execution_count": 3,
      "metadata": {},
      "outputs": [],
      "source": [
        "import pandas as pd\n",
        "\n",
        "df = pd.read_csv('vgsalesGlobale.csv')"
      ]
    },
    {
      "cell_type": "code",
      "execution_count": 4,
      "metadata": {},
      "outputs": [
        {
          "name": "stdout",
          "output_type": "stream",
          "text": [
            "Total Global Sales: 8920.44\n"
          ]
        }
      ],
      "source": [
        "#total global sales\n",
        "totalglobalsales = df['Global_Sales'].sum()\n",
        "print(\"Total Global Sales:\", totalglobalsales)"
      ]
    },
    {
      "cell_type": "code",
      "execution_count": 5,
      "metadata": {},
      "outputs": [
        {
          "name": "stdout",
          "output_type": "stream",
          "text": [
            "Game with Highest Global Sales: Wii Sports\n"
          ]
        }
      ],
      "source": [
        "#game with the highest global sales\n",
        "highestsalesgame = df.loc[df['Global_Sales'].idxmax(), 'Name']\n",
        "print(\"Game with Highest Global Sales:\", highestsalesgame)"
      ]
    },
    {
      "cell_type": "code",
      "execution_count": 6,
      "metadata": {},
      "outputs": [
        {
          "name": "stdout",
          "output_type": "stream",
          "text": [
            "Average Sales per Region:\n",
            " NA_Sales       0.264667\n",
            "EU_Sales       0.146652\n",
            "JP_Sales       0.077782\n",
            "Other_Sales    0.048063\n",
            "dtype: float64\n"
          ]
        }
      ],
      "source": [
        "#average sales for each region\n",
        "averagesalesperregion = df[['NA_Sales', 'EU_Sales', 'JP_Sales', 'Other_Sales']].mean()\n",
        "print(\"Average Sales per Region:\\n\", averagesalesperregion)\n"
      ]
    },
    {
      "cell_type": "code",
      "execution_count": 7,
      "metadata": {},
      "outputs": [
        {
          "name": "stdout",
          "output_type": "stream",
          "text": [
            "Top 5 Most Popular Game Genres:\n",
            " Genre\n",
            "Action          1751.18\n",
            "Sports          1330.93\n",
            "Shooter         1037.37\n",
            "Role-Playing     927.37\n",
            "Platform         831.37\n",
            "Name: Global_Sales, dtype: float64\n"
          ]
        }
      ],
      "source": [
        "#top 5 most popular game genres based on global sales\n",
        "topgenres = df.groupby('Genre')['Global_Sales'].sum().nlargest(5)\n",
        "print(\"Top 5 Most Popular Game Genres:\\n\", topgenres)"
      ]
    },
    {
      "cell_type": "code",
      "execution_count": 8,
      "metadata": {},
      "outputs": [],
      "source": [
        "#total sales for each genre in each region\n",
        "genresalesbyregion = df.groupby('Genre')[['NA_Sales', 'EU_Sales', 'JP_Sales', 'Other_Sales']].sum()\n",
        "#most popular genre in north america\n",
        "mostpopulargenreNA = genresalesbyregion['NA_Sales'].idxmax()\n",
        "print(\"Most Popular Genre in North America:\", mostpopulargenreNA)"
      ]
    },
    {
      "cell_type": "code",
      "execution_count": 10,
      "metadata": {},
      "outputs": [
        {
          "name": "stdout",
          "output_type": "stream",
          "text": [
            "Last 10 Rows:\n",
            "         Rank                                               Name Platform  \\\n",
            "16588  16591                                   Mega Brain Boost       DS   \n",
            "16589  16592  Chou Ezaru wa Akai Hana: Koi wa Tsuki ni Shiru...      PSV   \n",
            "16590  16593  Eiyuu Densetsu: Sora no Kiseki Material Collec...      PSP   \n",
            "16591  16594                                Myst IV: Revelation       PC   \n",
            "16592  16595                                           Plushees       DS   \n",
            "16593  16596                 Woody Woodpecker in Crazy Castle 5      GBA   \n",
            "16594  16597                      Men in Black II: Alien Escape       GC   \n",
            "16595  16598   SCORE International Baja 1000: The Official Game      PS2   \n",
            "16596  16599                                         Know How 2       DS   \n",
            "16597  16600                                   Spirits & Spells      GBA   \n",
            "\n",
            "         Year         Genre              Publisher  NA_Sales  EU_Sales  \\\n",
            "16588  2008.0        Puzzle  Majesco Entertainment      0.01      0.00   \n",
            "16589  2016.0        Action        dramatic create      0.00      0.00   \n",
            "16590  2007.0  Role-Playing     Falcom Corporation      0.00      0.00   \n",
            "16591  2004.0     Adventure                Ubisoft      0.01      0.00   \n",
            "16592  2008.0    Simulation              Destineer      0.01      0.00   \n",
            "16593  2002.0      Platform                  Kemco      0.01      0.00   \n",
            "16594  2003.0       Shooter             Infogrames      0.01      0.00   \n",
            "16595  2008.0        Racing             Activision      0.00      0.00   \n",
            "16596  2010.0        Puzzle               7G//AMES      0.00      0.01   \n",
            "16597  2003.0      Platform                Wanadoo      0.01      0.00   \n",
            "\n",
            "       JP_Sales  Other_Sales  Global_Sales  \n",
            "16588      0.00          0.0          0.01  \n",
            "16589      0.01          0.0          0.01  \n",
            "16590      0.01          0.0          0.01  \n",
            "16591      0.00          0.0          0.01  \n",
            "16592      0.00          0.0          0.01  \n",
            "16593      0.00          0.0          0.01  \n",
            "16594      0.00          0.0          0.01  \n",
            "16595      0.00          0.0          0.01  \n",
            "16596      0.00          0.0          0.01  \n",
            "16597      0.00          0.0          0.01  \n"
          ]
        }
      ],
      "source": [
        "print(\"Last 10 Rows:\\n\", df.tail(10))"
      ]
    },
    {
      "cell_type": "code",
      "execution_count": 11,
      "metadata": {},
      "outputs": [
        {
          "name": "stdout",
          "output_type": "stream",
          "text": [
            "Top 3 Gaming Platforms:\n",
            " Platform\n",
            "PS2     1255.64\n",
            "X360     979.96\n",
            "PS3      957.84\n",
            "Name: Global_Sales, dtype: float64\n"
          ]
        }
      ],
      "source": [
        "#top 3 gaming platforms with the highest global sales\n",
        "topplatforms = df.groupby('Platform')['Global_Sales'].sum().nlargest(3)\n",
        "print(\"Top 3 Gaming Platforms:\\n\", topplatforms)\n"
      ]
    },
    {
      "cell_type": "code",
      "execution_count": 12,
      "metadata": {},
      "outputs": [
        {
          "name": "stdout",
          "output_type": "stream",
          "text": [
            "Market Share by Genre (%):\n",
            " Genre\n",
            "Action          19.631094\n",
            "Adventure        2.679688\n",
            "Fighting         5.032375\n",
            "Misc             9.079821\n",
            "Platform         9.319832\n",
            "Puzzle           2.745941\n",
            "Racing           8.206322\n",
            "Role-Playing    10.396012\n",
            "Shooter         11.629135\n",
            "Simulation       4.396644\n",
            "Sports          14.920004\n",
            "Strategy         1.963132\n",
            "Name: Global_Sales, dtype: float64\n"
          ]
        }
      ],
      "source": [
        "#calculating the market share for each genre\n",
        "totalsalesbygenre = df.groupby('Genre')['Global_Sales'].sum()\n",
        "genre_market_share = (totalsalesbygenre / totalglobalsales) * 100\n",
        "print(\"Market Share by Genre (%):\\n\", genre_market_share)\n"
      ]
    },
    {
      "cell_type": "code",
      "execution_count": 13,
      "metadata": {},
      "outputs": [
        {
          "name": "stdout",
          "output_type": "stream",
          "text": [
            "Correlation Coefficient between NA_Sales and EU_Sales: 0.767726748370264\n"
          ]
        }
      ],
      "source": [
        "#calculating the correlation coefficient between NA and EU\n",
        "correlation = df['NA_Sales'].corr(df['EU_Sales'])\n",
        "print(\"Correlation Coefficient between NA_Sales and EU_Sales:\", correlation)"
      ]
    },
    {
      "cell_type": "markdown",
      "metadata": {
        "id": "TAcoA0P60GrS"
      },
      "source": [
        "## Task 2 English-Spanish Dictionary\n",
        "You are creating a basic English-Spanish dictionary that allows users to look up English words and find their Spanish translations.\n",
        "\n",
        "\n",
        "### Tasks\n",
        "* Create a dictionary where English words are keys and their Spanish translations are values.\n",
        "* Ask the user to input an English word.\n",
        "* Check if the word exists in the dictionary.\n",
        "* If the word exists, print its Spanish translation.\n",
        "* If the word does not exist, inform the user that the translation is not available.\n",
        "* Implement a loop that allows the user to keep looking up words until they choose to exit.\n"
      ]
    },
    {
      "cell_type": "code",
      "execution_count": 14,
      "metadata": {},
      "outputs": [
        {
          "name": "stdout",
          "output_type": "stream",
          "text": [
            "The Spanish translation of 'no' is 'no'.\n",
            "Translation not available.\n",
            "Goodbye!\n"
          ]
        }
      ],
      "source": [
        "english_to_spanish = {\n",
        "    \"hello\": \"hola\",\n",
        "    \"goodbye\": \"adiós\",\n",
        "    \"please\": \"por favor\",\n",
        "    \"thank you\": \"gracias\",\n",
        "    \"yes\": \"sí\",\n",
        "    \"no\": \"no\",\n",
        "    \"morning\": \"mañana\",\n",
        "    \"night\": \"noche\",\n",
        "    \"water\": \"agua\",\n",
        "    \"food\": \"comida\"\n",
        "}\n",
        "\n",
        "while True:\n",
        "    word = input(\"Enter an English word or enter 'q' to quit: \").strip().lower()\n",
        "    \n",
        "    if word == \"q\":\n",
        "        break\n",
        "    \n",
        "    translation = english_to_spanish.get(word)\n",
        "    if translation:\n",
        "        print(f\"The Spanish translation of '{word}' is '{translation}'.\")\n",
        "    else:\n",
        "        print(\"Translation not available.\")\n"
      ]
    },
    {
      "cell_type": "markdown",
      "metadata": {
        "id": "l7D9aut90G_C"
      },
      "source": [
        "\n",
        "## Task 3 Email Classification\n",
        "Develope a tool which will classify an email.\n",
        "\n",
        "### Tasks:\n",
        "* Create a function classify_emails that takes a list of emails as an argument.\n",
        "* Inside the function, categorize emails into \"Important,\" \"Promotions,\" and \"Spam\" based on keywords and content analysis.\n",
        "* Loop through the emails and identify keywords to determine their category.\n",
        "* If an email contains keywords indicating importance, assign it as \"Important.\"\n",
        "* If an email contains keywords related to promotions or deals, assign it as \"Promotions.\"\n",
        "* If an email is suspected to be spam based on certain keywords or patterns, assign it as \"Spam.\"\n",
        "* Return three lists of emails for each category.\n",
        "* Print the lists."
      ]
    },
    {
      "cell_type": "code",
      "execution_count": 19,
      "metadata": {},
      "outputs": [
        {
          "name": "stdout",
          "output_type": "stream",
          "text": [
            "Important Emails:\n",
            "['Meeting scheduled for tomorrow', 'Project deadline extended', 'We have an urgert meeting tomorrow']\n",
            "Promotion Emails:\n",
            "['Huge discount on all items!', 'Exclusive offer just for you']\n",
            "Spam Emails:\n",
            "['You just won a prize of $30000', 'Congratulations! You won a prize!']\n"
          ]
        }
      ],
      "source": [
        "def classify_emails(emails):\n",
        "    importantkeywords = {\"meeting\", \"project\", \"deadline\", \"urgent\", \"client\"}\n",
        "    promotionkeywords = {\"sale\", \"discount\", \"offer\", \"deal\", \"promo\"}\n",
        "    spamkeywords = {\"win\", \"prize\", \"lottery\", \"free money\", \"click here\"}\n",
        "    \n",
        "    important_emails = []\n",
        "    promotion_emails = []\n",
        "    spam_emails = []\n",
        "    \n",
        "    for email in emails:\n",
        "        email_lower = email.lower()\n",
        "        if any(keyword in email_lower for keyword in importantkeywords):\n",
        "            important_emails.append(email)\n",
        "        elif any(keyword in email_lower for keyword in promotionkeywords):\n",
        "            promotion_emails.append(email)\n",
        "        elif any(keyword in email_lower for keyword in spamkeywords):\n",
        "            spam_emails.append(email)\n",
        "        else:\n",
        "            important_emails.append(email)  \n",
        "    \n",
        "    return important_emails, promotion_emails, spam_emails\n",
        "\n",
        "\n",
        "emails = [\n",
        "    \"Meeting scheduled for tomorrow\",\n",
        "    \"Huge discount on all items!\",\n",
        "    \"You just won a prize of $30000\",\n",
        "    \"Congratulations! You won a prize!\",\n",
        "    \"Project deadline extended\",\n",
        "    \"We have an urgert meeting tomorrow\",\n",
        "    \"Exclusive offer just for you\"\n",
        "]\n",
        "\n",
        "important, promotions, spam = classify_emails(emails)\n",
        "\n",
        "print(\"Important Emails:\")\n",
        "print(important)\n",
        "print(\"Promotion Emails:\")\n",
        "print(promotions)\n",
        "print(\"Spam Emails:\")\n",
        "print(spam)\n"
      ]
    },
    {
      "cell_type": "markdown",
      "metadata": {
        "id": "0brD8K130gh8"
      },
      "source": [
        "## Task 4 Online Store Shopping Cart\n",
        "Write a Python program to simulate the online store's shopping cart system. The program should use a while loop to provide an interactive shopping experience.\n",
        "\n",
        "\n",
        "### Tasks:\n",
        "* Initialize an empty list called shopping_cart to store items.\n",
        "* Display a welcome message and available products.\n",
        "* Loop should be iterating over AI Response Simulator and Investment decision and keep asking for user input.\n",
        "* Prompt the user to enter the number corresponding to the product they want to add to the cart.\n",
        "* Check if the user entered 'q'. If so, break the loop.\n",
        "* Convert the choice to an integer and validate it within the valid range (1 to 3).\n",
        "* Based on the user's choice, add the selected product to the shopping_cart list.\n",
        "* Display a confirmation message indicating the added product.\n",
        "* Continue the loop to allow the user to add more products or proceed to checkout.\n",
        "* After the loop ends, display the contents of the shopping cart.\n",
        "* Display a goodbye message.\n",
        "* End the program."
      ]
    },
    {
      "cell_type": "code",
      "execution_count": 22,
      "metadata": {},
      "outputs": [
        {
          "name": "stdout",
          "output_type": "stream",
          "text": [
            "Welcome to the Online Store!\n",
            "Available Products:\n",
            "1: Samsung\n",
            "2: Apple\n",
            "3: Mi\n",
            "4: Pixel\n",
            "5: Huawei\n",
            "Apple has been added to cart.\n",
            "Pixel has been added to cart.\n",
            "\n",
            "Your Shopping Cart:\n",
            "- Apple\n",
            "- Pixel\n",
            "Thank you for shopping\n"
          ]
        }
      ],
      "source": [
        "shoppingcart = []\n",
        "products = {\n",
        "    1: \"Samsung\",\n",
        "    2: \"Apple\",\n",
        "    3: \"Mi\",\n",
        "    4: \"Pixel\",\n",
        "    5: \"Huawei\"\n",
        "}\n",
        "\n",
        "print(\"Welcome to the Online Store!\")\n",
        "print(\"Available Products:\")\n",
        "for key, value in products.items():\n",
        "    print(f\"{key}: {value}\")\n",
        "\n",
        "while True:\n",
        "    choice = input(\"Enter the number of the product to add to cart (or 'q' to quit): \").strip().lower()\n",
        "    \n",
        "    if choice == 'q':\n",
        "        break\n",
        "    \n",
        "    if choice.isdigit():\n",
        "        choice = int(choice)\n",
        "        if choice in products:\n",
        "            shoppingcart.append(products[choice])\n",
        "            print(f\"{products[choice]} has been added to cart.\")\n",
        "        else:\n",
        "            print(\"Invalid choice. Please enter a number between 1 and 5.\")\n",
        "    else:\n",
        "        print(\"Invalid input. Please enter a valid number or 'q' to quit.\")\n",
        "\n",
        "print(\"\\nYour Shopping Cart:\")\n",
        "for item in shoppingcart:\n",
        "    print(f\"- {item}\")\n",
        "\n",
        "print(\"Thank you for shopping\")\n"
      ]
    },
    {
      "cell_type": "markdown",
      "metadata": {
        "id": "2u1i-sXA0mYb"
      },
      "source": [
        "## Task 5\n",
        "* Create two NumPy arrays of the same shape and perform element-wise addition on them.\n",
        "* Calculate the element-wise product of two NumPy arrays."
      ]
    },
    {
      "cell_type": "code",
      "execution_count": 23,
      "metadata": {},
      "outputs": [
        {
          "name": "stdout",
          "output_type": "stream",
          "text": [
            "Element-wise Addition: [ 7  9 11 13 15]\n",
            "Element-wise Product: [ 6 14 24 36 50]\n"
          ]
        }
      ],
      "source": [
        "import numpy as np\n",
        "\n",
        "a1 = np.array([1, 2, 3, 4, 5])\n",
        "a2 = np.array([6, 7, 8, 9, 10])\n",
        "\n",
        "sum_array = a1 + a2\n",
        "product_array = a1 * a2\n",
        "\n",
        "print(\"Element-wise Addition:\", sum_array)\n",
        "print(\"Element-wise Product:\", product_array)"
      ]
    },
    {
      "cell_type": "markdown",
      "metadata": {
        "id": "bhV4sIZU1Iui"
      },
      "source": [
        "## Task 6\n",
        "* Reshape a 1D NumPy array into a 2D array with dimensions (3, 4).\n",
        "\n",
        "* Concatenate two NumPy arrays horizontally and vertically."
      ]
    },
    {
      "cell_type": "code",
      "execution_count": 29,
      "metadata": {},
      "outputs": [
        {
          "name": "stdout",
          "output_type": "stream",
          "text": [
            "Reshaped 2D Array:\n",
            " [[ 1  2  3  4]\n",
            " [ 5  6  7  8]\n",
            " [ 9 10 11 12]]\n",
            "Horizontally Concatenated Array:\n",
            " [[ 1  6]\n",
            " [ 2  7]\n",
            " [ 3  8]\n",
            " [ 4  9]\n",
            " [ 5 10]]\n",
            "Vertically Concatenated Array:\n",
            " [[ 1  2  3  4  5]\n",
            " [ 6  7  8  9 10]]\n"
          ]
        }
      ],
      "source": [
        "a1d = np.array([1,2,3,4,5,6,7,8,9,10,11,12])\n",
        "a2d = a1d.reshape(3, 4)\n",
        "print(\"Reshaped 2D Array:\\n\", a2d)\n",
        "\n",
        "#used arrays from previous question\n",
        "horizontal_concat = np.hstack((a1.reshape(-1, 1), a2.reshape(-1, 1)))\n",
        "vertical_concat = np.vstack((a1, a2))\n",
        "\n",
        "print(\"Horizontally Concatenated Array:\\n\", horizontal_concat)\n",
        "print(\"Vertically Concatenated Array:\\n\", vertical_concat)\n"
      ]
    },
    {
      "cell_type": "markdown",
      "metadata": {
        "id": "HJYa0CKL1bGi"
      },
      "source": [
        "## Task 7\n",
        "* Reverse A List In Python Using Slicing\n"
      ]
    },
    {
      "cell_type": "code",
      "execution_count": 30,
      "metadata": {},
      "outputs": [
        {
          "name": "stdout",
          "output_type": "stream",
          "text": [
            "[5 4 3 2 1]\n"
          ]
        }
      ],
      "source": [
        "rlist = a1[::-1]\n",
        "print(rlist)"
      ]
    },
    {
      "cell_type": "markdown",
      "metadata": {
        "id": "hkrCxw4XSRl0"
      },
      "source": [
        "# TASK 8\n",
        "You need to download the GitHub Desktop software, push your lab task to your GitHub account, and share the link on GCR as a submission."
      ]
    }
  ],
  "metadata": {
    "colab": {
      "provenance": []
    },
    "kernelspec": {
      "display_name": "Python 3",
      "name": "python3"
    },
    "language_info": {
      "codemirror_mode": {
        "name": "ipython",
        "version": 3
      },
      "file_extension": ".py",
      "mimetype": "text/x-python",
      "name": "python",
      "nbconvert_exporter": "python",
      "pygments_lexer": "ipython3",
      "version": "3.12.8"
    }
  },
  "nbformat": 4,
  "nbformat_minor": 0
}
